{
 "cells": [
  {
   "cell_type": "markdown",
   "id": "40bcc514",
   "metadata": {},
   "source": [
    "\n",
    "# Performance Comparison: NumPy vs Python Loops for Dot Product\n",
    "\n",
    "This notebook compares the performance of NumPy's optimized vectorized operations and a standard Python loop for calculating the dot product of two large vectors.\n"
   ]
  },
  {
   "cell_type": "code",
   "execution_count": 16,
   "id": "5755d398",
   "metadata": {},
   "outputs": [
    {
     "name": "stdout",
     "output_type": "stream",
     "text": [
      "NumPy is 545.88 times faster than Python loop.\n"
     ]
    }
   ],
   "source": [
    "\n",
    "import numpy as np\n",
    "import time\n",
    "import pandas as pd\n",
    "\n",
    "# Generate random data\n",
    "size = 1_000_000\n",
    "a = np.random.rand(size)\n",
    "b = np.random.rand(size)\n",
    "\n",
    "# Measure time for NumPy dot product\n",
    "start_numpy = time.time()\n",
    "numpy_result = np.dot(a, b)\n",
    "end_numpy = time.time()\n",
    "\n",
    "# Measure time for Python loop dot product\n",
    "start_loop = time.time()\n",
    "loop_result = sum(a[i] * b[i] for i in range(size))\n",
    "end_loop = time.time()\n",
    "\n",
    "# Record times\n",
    "numpy_time = end_numpy - start_numpy\n",
    "loop_time = end_loop - start_loop\n",
    "\n",
    "numpy_time, loop_time\n",
    "\n",
    "\n",
    "pd.DataFrame({'numpy_time': [numpy_time], 'loop_time': [loop_time]}).head()\n",
    "\n",
    "print(f\"NumPy is {loop_time / numpy_time:.2f} times faster than Python loop.\")\n"
   ]
  },
  {
   "cell_type": "markdown",
   "id": "b54bbb71",
   "metadata": {},
   "source": [
    "\n",
    "### Results\n",
    "\n",
    "The execution times for the two methods are as follows:\n",
    "- **NumPy implementation**: Time recorded is stored in `numpy_time`.\n",
    "- **Python loop implementation**: Time recorded is stored in `loop_time`.\n",
    "\n",
    "Run the cell above to observe the difference in execution times.\n",
    "\n",
    "### Observations\n",
    "On my machine, the NumPy implementation is approximately 5.45x times faster than the Python loop implementation. This is because NumPy uses optimized C code to perform the vectorized operations, which is much faster than the standard Python loop."
   ]
  }
 ],
 "metadata": {
  "kernelspec": {
   "display_name": ".venv",
   "language": "python",
   "name": "python3"
  },
  "language_info": {
   "codemirror_mode": {
    "name": "ipython",
    "version": 3
   },
   "file_extension": ".py",
   "mimetype": "text/x-python",
   "name": "python",
   "nbconvert_exporter": "python",
   "pygments_lexer": "ipython3",
   "version": "3.13.1"
  }
 },
 "nbformat": 4,
 "nbformat_minor": 5
}
