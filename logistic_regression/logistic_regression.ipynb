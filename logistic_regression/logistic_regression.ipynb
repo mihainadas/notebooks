{
 "cells": [
  {
   "cell_type": "markdown",
   "id": "2897c756",
   "metadata": {},
   "source": [
    "# Logistic Regression on the Breast Cancer Dataset\n",
    "This notebook demonstrates a binary classification task using logistic regression from **scikit-learn**.\n",
    "We will step through loading the data, training the model, and evaluating the results using standard metrics."
   ]
  },
  {
   "cell_type": "markdown",
   "id": "9f97e9c5",
   "metadata": {},
   "source": [
    "## Dataset\n",
    "We use the Breast Cancer Wisconsin dataset included with scikit-learn.\n",
    "Each sample contains 30 numeric features describing cell nuclei from a digitized image.\n",
    "The target label is **1** for malignant tumors and **0** for benign."
   ]
  },
  {
   "cell_type": "code",
   "execution_count": null,
   "id": "97e21d07",
   "metadata": {},
   "outputs": [],
   "source": [
    "import numpy as np\n",
    "from sklearn.datasets import load_breast_cancer\n",
    "from sklearn.model_selection import train_test_split\n",
    "from sklearn.linear_model import LogisticRegression\n",
    "from sklearn.metrics import accuracy_score, classification_report, ConfusionMatrixDisplay, RocCurveDisplay\n",
    "import matplotlib.pyplot as plt\n"
   ]
  },
  {
   "cell_type": "code",
   "execution_count": null,
   "id": "0b4ac84e",
   "metadata": {},
   "outputs": [],
   "source": [
    "# Load dataset\n",
    "data = load_breast_cancer()\n",
    "X = data.data\n",
    "y = data.target\n",
    "\n",
    "# Split into train and test sets\n",
    "X_train, X_test, y_train, y_test = train_test_split(X, y, test_size=0.2, random_state=42)\n"
   ]
  },
  {
   "cell_type": "markdown",
   "id": "33f07f8f",
   "metadata": {},
   "source": [
    "### Dataset shape\n",
    "After loading, we'll inspect the feature matrix and the target vector."
   ]
  },
  {
   "cell_type": "code",
   "execution_count": null,
   "id": "b3d95e3c",
   "metadata": {},
   "outputs": [],
   "source": [
    "print(f\"Features shape: {X.shape}\")\n",
    "print(f\"Labels shape: {y.shape}\")"
   ]
  },
  {
   "cell_type": "markdown",
   "id": "9db2af4d",
   "metadata": {},
   "source": [
    "## Training the Model\n",
    "With the data in hand we fit a logistic regression classifier."
   ]
  },
  {
   "cell_type": "code",
   "execution_count": null,
   "id": "68fbdb38",
   "metadata": {},
   "outputs": [],
   "source": [
    "# Train logistic regression model\n",
    "clf = LogisticRegression(max_iter=1000)\n",
    "clf.fit(X_train, y_train)\n",
    "\n",
    "# Predict on the test set\n",
    "y_pred = clf.predict(X_test)\n",
    "acc = accuracy_score(y_test, y_pred)\n",
    "print(f\"Accuracy: {acc:.3f}\")\n"
   ]
  },
  {
   "cell_type": "markdown",
   "id": "4d21bec1",
   "metadata": {},
   "source": [
    "## Evaluation Metrics\n",
    "We'll check accuracy, print a classification report, and show the confusion matrix."
   ]
  },
  {
   "cell_type": "code",
   "execution_count": null,
   "id": "f3e1516f",
   "metadata": {},
   "outputs": [],
   "source": [
    "# Display classification report and confusion matrix\n",
    "print(classification_report(y_test, y_pred, target_names=data.target_names))\n",
    "ConfusionMatrixDisplay.from_predictions(y_test, y_pred)\n",
    "plt.show()\n"
   ]
  },
  {
   "cell_type": "markdown",
   "id": "44fede21",
   "metadata": {},
   "source": [
    "### ROC Curve\n",
    "Finally, let's visualize the trade-off between true and false positive rates."
   ]
  },
  {
   "cell_type": "code",
   "execution_count": null,
   "id": "92cc5ea0",
   "metadata": {},
   "outputs": [],
   "source": [
    "# ROC curve\n",
    "RocCurveDisplay.from_estimator(clf, X_test, y_test)\n",
    "plt.show()\n"
   ]
  }
 ],
 "metadata": {},
 "nbformat": 4,
 "nbformat_minor": 5
}
