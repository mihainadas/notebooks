{
 "cells": [
  {
   "cell_type": "markdown",
   "id": "2897c756",
   "metadata": {},
   "source": [
    "# Logistic Regression on the Breast Cancer Dataset\n",
    "This notebook demonstrates a binary classification task using logistic regression from **scikit-learn**.\n",
    "We will step through loading the data, training the model, and evaluating the results using standard metrics."
   ]
  },
  {
   "cell_type": "markdown",
   "id": "9f97e9c5",
   "metadata": {},
   "source": [
    "## Dataset\n",
    "We use the Breast Cancer Wisconsin dataset included with scikit-learn.\n",
    "Each sample contains 30 numeric features describing cell nuclei from a digitized image.\n",
    "The target label is **1** for malignant tumors and **0** for benign."
   ]
  },
  {
   "cell_type": "code",
   "execution_count": 1,
   "id": "97e21d07",
   "metadata": {
    "execution": {
     "iopub.execute_input": "2025-07-26T06:50:05.619447Z",
     "iopub.status.busy": "2025-07-26T06:50:05.619112Z",
     "iopub.status.idle": "2025-07-26T06:50:08.289167Z",
     "shell.execute_reply": "2025-07-26T06:50:08.287944Z"
    }
   },
   "outputs": [],
   "source": [
    "import numpy as np\n",
    "from sklearn.datasets import load_breast_cancer\n",
    "from sklearn.model_selection import train_test_split\n",
    "from sklearn.linear_model import LogisticRegression\n",
    "from sklearn.metrics import accuracy_score, classification_report, ConfusionMatrixDisplay, RocCurveDisplay\n",
    "import matplotlib.pyplot as plt\n"
   ]
  },
  {
   "cell_type": "code",
   "execution_count": 2,
   "id": "0b4ac84e",
   "metadata": {
    "execution": {
     "iopub.execute_input": "2025-07-26T06:50:08.293234Z",
     "iopub.status.busy": "2025-07-26T06:50:08.292756Z",
     "iopub.status.idle": "2025-07-26T06:50:08.308970Z",
     "shell.execute_reply": "2025-07-26T06:50:08.308131Z"
    }
   },
   "outputs": [],
   "source": [
    "# Load dataset\n",
    "data = load_breast_cancer()\n",
    "X = data.data\n",
    "y = data.target\n",
    "\n",
    "# Split into train and test sets\n",
    "X_train, X_test, y_train, y_test = train_test_split(X, y, test_size=0.2, random_state=42)\n"
   ]
  },
  {
   "cell_type": "markdown",
   "id": "33f07f8f",
   "metadata": {},
   "source": [
    "### Dataset shape\n",
    "After loading, we'll inspect the feature matrix and the target vector."
   ]
  },
  {
   "cell_type": "code",
   "execution_count": 3,
   "id": "b3d95e3c",
   "metadata": {
    "execution": {
     "iopub.execute_input": "2025-07-26T06:50:08.311846Z",
     "iopub.status.busy": "2025-07-26T06:50:08.311525Z",
     "iopub.status.idle": "2025-07-26T06:50:08.315920Z",
     "shell.execute_reply": "2025-07-26T06:50:08.315071Z"
    }
   },
   "outputs": [
    {
     "name": "stdout",
     "output_type": "stream",
     "text": [
      "Features shape: (569, 30)\n",
      "Labels shape: (569,)\n"
     ]
    }
   ],
   "source": [
    "print(f\"Features shape: {X.shape}\")\n",
    "print(f\"Labels shape: {y.shape}\")"
   ]
  },
  {
   "cell_type": "markdown",
   "id": "9db2af4d",
   "metadata": {},
   "source": [
    "## Training the Model\n",
    "With the data in hand we fit a logistic regression classifier."
   ]
  },
  {
   "cell_type": "code",
   "execution_count": 4,
   "id": "68fbdb38",
   "metadata": {
    "execution": {
     "iopub.execute_input": "2025-07-26T06:50:08.319411Z",
     "iopub.status.busy": "2025-07-26T06:50:08.319148Z",
     "iopub.status.idle": "2025-07-26T06:50:08.498415Z",
     "shell.execute_reply": "2025-07-26T06:50:08.497687Z"
    }
   },
   "outputs": [
    {
     "name": "stdout",
     "output_type": "stream",
     "text": [
      "Accuracy: 0.956\n"
     ]
    },
    {
     "name": "stderr",
     "output_type": "stream",
     "text": [
      "/root/.pyenv/versions/3.12.10/lib/python3.12/site-packages/sklearn/linear_model/_logistic.py:473: ConvergenceWarning: lbfgs failed to converge after 1000 iteration(s) (status=1):\n",
      "STOP: TOTAL NO. OF ITERATIONS REACHED LIMIT\n",
      "\n",
      "Increase the number of iterations to improve the convergence (max_iter=1000).\n",
      "You might also want to scale the data as shown in:\n",
      "    https://scikit-learn.org/stable/modules/preprocessing.html\n",
      "Please also refer to the documentation for alternative solver options:\n",
      "    https://scikit-learn.org/stable/modules/linear_model.html#logistic-regression\n",
      "  n_iter_i = _check_optimize_result(\n"
     ]
    }
   ],
   "source": [
    "# Train logistic regression model\n",
    "clf = LogisticRegression(max_iter=1000)\n",
    "clf.fit(X_train, y_train)\n",
    "\n",
    "# Predict on the test set\n",
    "y_pred = clf.predict(X_test)\n",
    "acc = accuracy_score(y_test, y_pred)\n",
    "print(f\"Accuracy: {acc:.3f}\")\n"
   ]
  },
  {
   "cell_type": "markdown",
   "id": "4d21bec1",
   "metadata": {},
   "source": [
    "## Evaluation Metrics\n",
    "We'll check accuracy, print a classification report, and show the confusion matrix."
   ]
  },
  {
   "cell_type": "code",
   "execution_count": 5,
   "id": "f3e1516f",
   "metadata": {
    "execution": {
     "iopub.execute_input": "2025-07-26T06:50:08.511810Z",
     "iopub.status.busy": "2025-07-26T06:50:08.507348Z",
     "iopub.status.idle": "2025-07-26T06:50:08.724492Z",
     "shell.execute_reply": "2025-07-26T06:50:08.723545Z"
    }
   },
   "outputs": [
    {
     "name": "stdout",
     "output_type": "stream",
     "text": [
      "              precision    recall  f1-score   support\n",
      "\n",
      "   malignant       0.97      0.91      0.94        43\n",
      "      benign       0.95      0.99      0.97        71\n",
      "\n",
      "    accuracy                           0.96       114\n",
      "   macro avg       0.96      0.95      0.95       114\n",
      "weighted avg       0.96      0.96      0.96       114\n",
      "\n"
     ]
    },
    {
     "data": {
      "image/png": "[encoded data removed]",
      "text/plain": [
       "<Figure size 640x480 with 2 Axes>"
      ]
     },
     "metadata": {},
     "output_type": "display_data"
    }
   ],
   "source": [
    "# Display classification report and confusion matrix\n",
    "print(classification_report(y_test, y_pred, target_names=data.target_names))\n",
    "ConfusionMatrixDisplay.from_predictions(y_test, y_pred)\n",
    "plt.show()\n"
   ]
  },
  {
   "cell_type": "markdown",
   "id": "44fede21",
   "metadata": {},
   "source": [
    "### ROC Curve\n",
    "Finally, let's visualize the trade-off between true and false positive rates."
   ]
  },
  {
   "cell_type": "code",
   "execution_count": 6,
   "id": "92cc5ea0",
   "metadata": {
    "execution": {
     "iopub.execute_input": "2025-07-26T06:50:08.727461Z",
     "iopub.status.busy": "2025-07-26T06:50:08.727176Z",
     "iopub.status.idle": "2025-07-26T06:50:08.849044Z",
     "shell.execute_reply": "2025-07-26T06:50:08.847900Z"
    }
   },
   "outputs": [
    {
     "data": {
      "image/png": "[encoded data removed]",
      "text/plain": [
       "<Figure size 640x480 with 1 Axes>"
      ]
     },
     "metadata": {},
     "output_type": "display_data"
    }
   ],
   "source": [
    "# ROC curve\n",
    "RocCurveDisplay.from_estimator(clf, X_test, y_test)\n",
    "plt.show()\n"
   ]
  }
 ],
 "metadata": {
  "language_info": {
   "codemirror_mode": {
    "name": "ipython",
    "version": 3
   },
   "file_extension": ".py",
   "mimetype": "text/x-python",
   "name": "python",
   "nbconvert_exporter": "python",
   "pygments_lexer": "ipython3",
   "version": "3.12.10"
  }
 },
 "nbformat": 4,
 "nbformat_minor": 5
}
