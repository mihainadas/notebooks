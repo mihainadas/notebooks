{
 "cells": [
  {
   "cell_type": "markdown",
   "metadata": {},
   "source": [
    "# Hugging Face Endpoint Inferences\n",
    "\n",
    "This notebook demonstrates how to use the Hugging Face Inference API to make predictions on a model hosted on the Hugging Face Hub. The model used in this example is a small text generation model. The model is hosted on the Hugging Face Hub and can be accessed using the `openai` library."
   ]
  },
  {
   "cell_type": "code",
   "execution_count": 5,
   "metadata": {},
   "outputs": [
    {
     "name": "stdout",
     "output_type": "stream",
     "text": [
      "Deep learning is a subset of machine learning that involves the use of artificial neural networks (ANNs) to analyze and interpret data. ANNs are modeled after the human brain, with a network of interconnected nodes (neurons) that process inputs and produce outputs.\n",
      "\n",
      "In traditional machine learning, algorithms are used to learn patterns from data through a process called supervised or unsupervised learning. However, these algorithms often require extensive manual tuning and feature engineering to produce accurate results.\n",
      "\n",
      "Deep learning addresses these limitations by using a multilayered architecture, with each layer learning a different level of abstraction. The inputs are fed into the network as a raw dataset, and the output is produced after passing the data through multiple layers of complex representations.\n",
      "\n",
      "The key characteristics of deep"
     ]
    }
   ],
   "source": [
    "from openai import OpenAI\n",
    "from decouple import config\n",
    "\n",
    "HF_ACCESS_TOKEN = config(\"HF_TOKEN\")\n",
    "\n",
    "# this will load `meta-llama/Llama-3.2-3B-Instruct` (https://huggingface.co/meta-llama/Llama-3.2-3B-Instruct)`\n",
    "client = OpenAI(\n",
    "\tbase_url=\"https://o4d7qjr8aeavpeiz.us-east-1.aws.endpoints.huggingface.cloud/v1/\", \n",
    "\tapi_key=HF_ACCESS_TOKEN\n",
    ")\n",
    "\n",
    "chat_completion = client.chat.completions.create(\n",
    "\tmodel=\"tgi\",\n",
    "\tmessages=[\n",
    "\t{\n",
    "\t\t\"role\": \"user\",\n",
    "\t\t\"content\": \"What is deep learning?\"\n",
    "\t}\n",
    "],\n",
    "\ttop_p=None,\n",
    "\ttemperature=None,\n",
    "\tmax_tokens=150,\n",
    "\tstream=True,\n",
    "\tseed=None,\n",
    "\tstop=None,\n",
    "\tfrequency_penalty=None,\n",
    "\tpresence_penalty=None\n",
    ")\n",
    "\n",
    "for message in chat_completion:\n",
    "\tprint(message.choices[0].delta.content, end=\"\")"
   ]
  }
 ],
 "metadata": {
  "kernelspec": {
   "display_name": ".venv",
   "language": "python",
   "name": "python3"
  },
  "language_info": {
   "codemirror_mode": {
    "name": "ipython",
    "version": 3
   },
   "file_extension": ".py",
   "mimetype": "text/x-python",
   "name": "python",
   "nbconvert_exporter": "python",
   "pygments_lexer": "ipython3",
   "version": "3.13.1"
  }
 },
 "nbformat": 4,
 "nbformat_minor": 2
}
