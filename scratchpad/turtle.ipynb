{
 "cells": [
  {
   "cell_type": "code",
   "execution_count": 1,
   "metadata": {},
   "outputs": [
    {
     "ename": "ModuleNotFoundError",
     "evalue": "No module named '_tkinter'",
     "output_type": "error",
     "traceback": [
      "\u001b[0;31m---------------------------------------------------------------------------\u001b[0m",
      "\u001b[0;31mModuleNotFoundError\u001b[0m                       Traceback (most recent call last)",
      "Cell \u001b[0;32mIn[1], line 1\u001b[0m\n\u001b[0;32m----> 1\u001b[0m \u001b[38;5;28;01mimport\u001b[39;00m \u001b[38;5;21;01mturtle\u001b[39;00m\n\u001b[1;32m      3\u001b[0m \u001b[38;5;28;01mdef\u001b[39;00m \u001b[38;5;21mdraw_circle\u001b[39m(x, y, radius, color):\n\u001b[1;32m      4\u001b[0m     turtle\u001b[38;5;241m.\u001b[39mpenup()\n",
      "File \u001b[0;32m/opt/homebrew/Cellar/python@3.13/3.13.1/Frameworks/Python.framework/Versions/3.13/lib/python3.13/turtle.py:101\u001b[0m\n\u001b[1;32m      1\u001b[0m \u001b[38;5;66;03m#\u001b[39;00m\n\u001b[1;32m      2\u001b[0m \u001b[38;5;66;03m# turtle.py: a Tkinter based turtle graphics module for Python\u001b[39;00m\n\u001b[1;32m      3\u001b[0m \u001b[38;5;66;03m# Version 1.1b - 4. 5. 2009\u001b[39;00m\n\u001b[0;32m   (...)\u001b[0m\n\u001b[1;32m     21\u001b[0m \u001b[38;5;66;03m#    misrepresented as being the original software.\u001b[39;00m\n\u001b[1;32m     22\u001b[0m \u001b[38;5;66;03m# 3. This notice may not be removed or altered from any source distribution.\u001b[39;00m\n\u001b[1;32m     24\u001b[0m \u001b[38;5;124;03m\"\"\"\u001b[39;00m\n\u001b[1;32m     25\u001b[0m \u001b[38;5;124;03mTurtle graphics is a popular way for introducing programming to\u001b[39;00m\n\u001b[1;32m     26\u001b[0m \u001b[38;5;124;03mkids. It was part of the original Logo programming language developed\u001b[39;00m\n\u001b[0;32m   (...)\u001b[0m\n\u001b[1;32m     98\u001b[0m \u001b[38;5;124;03mextensions in mind. These will be commented and documented elsewhere.\u001b[39;00m\n\u001b[1;32m     99\u001b[0m \u001b[38;5;124;03m\"\"\"\u001b[39;00m\n\u001b[0;32m--> 101\u001b[0m \u001b[38;5;28;01mimport\u001b[39;00m \u001b[38;5;21;01mtkinter\u001b[39;00m \u001b[38;5;28;01mas\u001b[39;00m \u001b[38;5;21;01mTK\u001b[39;00m\n\u001b[1;32m    102\u001b[0m \u001b[38;5;28;01mimport\u001b[39;00m \u001b[38;5;21;01mtypes\u001b[39;00m\n\u001b[1;32m    103\u001b[0m \u001b[38;5;28;01mimport\u001b[39;00m \u001b[38;5;21;01mmath\u001b[39;00m\n",
      "File \u001b[0;32m/opt/homebrew/Cellar/python@3.13/3.13.1/Frameworks/Python.framework/Versions/3.13/lib/python3.13/tkinter/__init__.py:38\u001b[0m\n\u001b[1;32m     35\u001b[0m \u001b[38;5;28;01mimport\u001b[39;00m \u001b[38;5;21;01msys\u001b[39;00m\n\u001b[1;32m     36\u001b[0m \u001b[38;5;28;01mimport\u001b[39;00m \u001b[38;5;21;01mtypes\u001b[39;00m\n\u001b[0;32m---> 38\u001b[0m \u001b[38;5;28;01mimport\u001b[39;00m \u001b[38;5;21;01m_tkinter\u001b[39;00m \u001b[38;5;66;03m# If this fails your Python may not be configured for Tk\u001b[39;00m\n\u001b[1;32m     39\u001b[0m TclError \u001b[38;5;241m=\u001b[39m _tkinter\u001b[38;5;241m.\u001b[39mTclError\n\u001b[1;32m     40\u001b[0m \u001b[38;5;28;01mfrom\u001b[39;00m \u001b[38;5;21;01mtkinter\u001b[39;00m\u001b[38;5;21;01m.\u001b[39;00m\u001b[38;5;21;01mconstants\u001b[39;00m \u001b[38;5;28;01mimport\u001b[39;00m \u001b[38;5;241m*\u001b[39m\n",
      "\u001b[0;31mModuleNotFoundError\u001b[0m: No module named '_tkinter'"
     ]
    }
   ],
   "source": [
    "import turtle\n",
    "\n",
    "def draw_circle(x, y, radius, color):\n",
    "    turtle.penup()\n",
    "    turtle.goto(x, y - radius)\n",
    "    turtle.pendown()\n",
    "    turtle.fillcolor(color)\n",
    "    turtle.begin_fill()\n",
    "    turtle.circle(radius)\n",
    "    turtle.end_fill()\n",
    "\n",
    "def draw_leg(start_x, start_y, length, angle):\n",
    "    turtle.penup()\n",
    "    turtle.goto(start_x, start_y)\n",
    "    turtle.setheading(angle)\n",
    "    turtle.pendown()\n",
    "    turtle.forward(length)\n",
    "    turtle.penup()\n",
    "\n",
    "def draw_spider():\n",
    "    screen = turtle.Screen()\n",
    "    screen.title(\"Spider Drawing\")\n",
    "    turtle.speed(10)\n",
    "\n",
    "    # Draw body\n",
    "    draw_circle(0, 0, 50, \"black\")\n",
    "\n",
    "    # Draw legs\n",
    "    leg_angles = [45, 90, 135, 180, 225, 270, 315, 0]\n",
    "    for angle in leg_angles:\n",
    "        draw_leg(0, 0, 100, angle)\n",
    "\n",
    "    # Draw head\n",
    "    draw_circle(0, 75, 25, \"black\")\n",
    "\n",
    "    # Add spider details (optional eyes)\n",
    "    turtle.goto(0, 90)\n",
    "    turtle.dot(10, \"white\")\n",
    "    turtle.goto(10, 90)\n",
    "    turtle.dot(10, \"white\")\n",
    "\n",
    "    # Keep the window open\n",
    "    screen.mainloop()\n",
    "\n",
    "draw_spider()"
   ]
  }
 ],
 "metadata": {
  "kernelspec": {
   "display_name": ".venv",
   "language": "python",
   "name": "python3"
  },
  "language_info": {
   "codemirror_mode": {
    "name": "ipython",
    "version": 3
   },
   "file_extension": ".py",
   "mimetype": "text/x-python",
   "name": "python",
   "nbconvert_exporter": "python",
   "pygments_lexer": "ipython3",
   "version": "3.13.1"
  }
 },
 "nbformat": 4,
 "nbformat_minor": 2
}
